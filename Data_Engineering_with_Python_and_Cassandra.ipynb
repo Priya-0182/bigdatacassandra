{
  "nbformat": 4,
  "nbformat_minor": 0,
  "metadata": {
    "colab": {
      "provenance": [],
      "collapsed_sections": [
        "D0SPXDZiYaT9",
        "oyMWX_1-hwUM",
        "t39dHAlOYcnd",
        "74642V8YhcUn",
        "ucd2o7JjpCQU",
        "YlBSoA0nwGX3",
        "KHMkryOkEKp0",
        "hlMtT1QdJ-B-",
        "VMzuOhO_Ve_N",
        "lZgcrFjxafI5"
      ]
    },
    "kernelspec": {
      "name": "python3",
      "display_name": "Python 3"
    },
    "language_info": {
      "name": "python"
    }
  },
  "cells": [
    {
      "cell_type": "markdown",
      "source": [
        "# Engineering with Python and Cassandra"
      ],
      "metadata": {
        "id": "e3MBq6SWYX2_"
      }
    },
    {
      "cell_type": "markdown",
      "source": [
        "## Pre-requisite"
      ],
      "metadata": {
        "id": "D0SPXDZiYaT9"
      }
    },
    {
      "cell_type": "code",
      "execution_count": 5,
      "metadata": {
        "id": "hurli2FRX3-f",
        "colab": {
          "base_uri": "https://localhost:8080/"
        },
        "outputId": "783956b6-33d7-4465-dad2-d55b7aad7357"
      },
      "outputs": [
        {
          "output_type": "stream",
          "name": "stdout",
          "text": [
            "Collecting cassandra-driver\n",
            "  Downloading cassandra_driver-3.29.2-cp310-cp310-manylinux_2_17_x86_64.manylinux2014_x86_64.whl.metadata (6.2 kB)\n",
            "Collecting geomet<0.3,>=0.1 (from cassandra-driver)\n",
            "  Downloading geomet-0.2.1.post1-py3-none-any.whl.metadata (1.0 kB)\n",
            "Requirement already satisfied: click in /usr/local/lib/python3.10/dist-packages (from geomet<0.3,>=0.1->cassandra-driver) (8.1.7)\n",
            "Requirement already satisfied: six in /usr/local/lib/python3.10/dist-packages (from geomet<0.3,>=0.1->cassandra-driver) (1.16.0)\n",
            "Downloading cassandra_driver-3.29.2-cp310-cp310-manylinux_2_17_x86_64.manylinux2014_x86_64.whl (3.9 MB)\n",
            "\u001b[2K   \u001b[90m━━━━━━━━━━━━━━━━━━━━━━━━━━━━━━━━━━━━━━━━\u001b[0m \u001b[32m3.9/3.9 MB\u001b[0m \u001b[31m34.7 MB/s\u001b[0m eta \u001b[36m0:00:00\u001b[0m\n",
            "\u001b[?25hDownloading geomet-0.2.1.post1-py3-none-any.whl (18 kB)\n",
            "Installing collected packages: geomet, cassandra-driver\n",
            "Successfully installed cassandra-driver-3.29.2 geomet-0.2.1.post1\n"
          ]
        }
      ],
      "source": [
        "# Install the Cassandra python driver\n",
        "!pip install cassandra-driver"
      ]
    },
    {
      "cell_type": "code",
      "source": [
        "# Import the necessary libraries\n",
        "from cassandra.cluster import Cluster\n",
        "from cassandra.auth import PlainTextAuthProvider\n",
        "import json"
      ],
      "metadata": {
        "id": "nT-SGAd4peMC"
      },
      "execution_count": 6,
      "outputs": []
    },
    {
      "cell_type": "markdown",
      "source": [
        "## Creating a Cassandra database"
      ],
      "metadata": {
        "id": "oyMWX_1-hwUM"
      }
    },
    {
      "cell_type": "markdown",
      "source": [
        "Here's a step-by-step tutorial on how to install Cassandra on DataStax Astra and how to connect to it using Python. We don't need to give any credit card details for this option.\n",
        "\n",
        "**Step 1: Sign up for DataStax Astra**\n",
        "\n",
        "To use DataStax Astra, you must first sign up for an account. Go to the DataStax Astra website (https://astra.datastax.com/register) and sign up for a free account.\n",
        "\n",
        "**Step 2: Create a database**\n",
        "\n",
        "Once you have created an account and logged in, you can create a new database. Click on the \"Create Database\" button and follow the prompts to create a new database.\n",
        "\n",
        "**Step 3: Create a keyspace**\n",
        "\n",
        "After creating a database, you need to create a keyspace. Click on the \"Add Keyspace\" button and follow the prompts to create a new keyspace.\n",
        "\n",
        "**Step 4: Generate an application token**\n",
        "\n",
        "To connect to your Cassandra database using Python, you'll need to generate an application token. Go to the \"Settings\" tab and click on the \"Generate New Token\" button. Copy the token that is generated."
      ],
      "metadata": {
        "id": "3tUk7XUBh0OF"
      }
    },
    {
      "cell_type": "markdown",
      "source": [
        "## 1. Setting up the Connection"
      ],
      "metadata": {
        "id": "t39dHAlOYcnd"
      }
    },
    {
      "cell_type": "code",
      "source": [
        "cloud_config= {\n",
        "  'secure_connect_bundle': 'secure-connect-db-sales.zip'\n",
        "}\n",
        "with open(\"db_sales-token.json\") as f:\n",
        "    secrets = json.load(f)\n",
        "CLIENT_ID = secrets[\"clientId\"]\n",
        "CLIENT_SECRET = secrets[\"secret\"]\n",
        "auth_provider = PlainTextAuthProvider(CLIENT_ID, CLIENT_SECRET)\n",
        "cluster = Cluster(cloud=cloud_config, auth_provider=auth_provider)\n",
        "session = cluster.connect()\n",
        "if session:\n",
        "  print('Connected!')\n",
        "else:\n",
        "  print(\"An error occurred.\")"
      ],
      "metadata": {
        "id": "IHIbcJcQYucx",
        "colab": {
          "base_uri": "https://localhost:8080/"
        },
        "outputId": "cec874e6-329a-42d8-ce84-279bb7f3b451"
      },
      "execution_count": 7,
      "outputs": [
        {
          "output_type": "stream",
          "name": "stderr",
          "text": [
            "WARNING:cassandra.cluster:Downgrading core protocol version from 66 to 65 for 02a72af1-d4a4-43cf-a139-9b587c46db84-eu-west-1.db.astra.datastax.com:29042:b4f6d9ed-0f1d-3f7a-82f1-a4a7ea4f84d4. To avoid this, it is best practice to explicitly set Cluster(protocol_version) to the version supported by your cluster. http://datastax.github.io/python-driver/api/cassandra/cluster.html#cassandra.cluster.Cluster.protocol_version\n",
            "WARNING:cassandra.cluster:Downgrading core protocol version from 65 to 5 for 02a72af1-d4a4-43cf-a139-9b587c46db84-eu-west-1.db.astra.datastax.com:29042:b4f6d9ed-0f1d-3f7a-82f1-a4a7ea4f84d4. To avoid this, it is best practice to explicitly set Cluster(protocol_version) to the version supported by your cluster. http://datastax.github.io/python-driver/api/cassandra/cluster.html#cassandra.cluster.Cluster.protocol_version\n",
            "WARNING:cassandra.cluster:Downgrading core protocol version from 5 to 4 for 02a72af1-d4a4-43cf-a139-9b587c46db84-eu-west-1.db.astra.datastax.com:29042:b4f6d9ed-0f1d-3f7a-82f1-a4a7ea4f84d4. To avoid this, it is best practice to explicitly set Cluster(protocol_version) to the version supported by your cluster. http://datastax.github.io/python-driver/api/cassandra/cluster.html#cassandra.cluster.Cluster.protocol_version\n"
          ]
        },
        {
          "output_type": "stream",
          "name": "stdout",
          "text": [
            "Connected!\n"
          ]
        }
      ]
    },
    {
      "cell_type": "markdown",
      "source": [
        "## 2. Loading and Reading Data from Cassandra"
      ],
      "metadata": {
        "id": "74642V8YhcUn"
      }
    },
    {
      "cell_type": "code",
      "source": [
        "session.execute(\"Use sales;\")\n",
        "session.execute(\"\"\"\n",
        "    CREATE TABLE IF NOT EXISTS bronze_table (\n",
        "        id UUID PRIMARY KEY,\n",
        "        region TEXT,\n",
        "        country TEXT,\n",
        "        item_type TEXT,\n",
        "        sales_channel TEXT,\n",
        "        order_priority TEXT,\n",
        "        order_date DATE,\n",
        "        order_id BIGINT,\n",
        "        ship_date DATE,\n",
        "        units_sold INT,\n",
        "        unit_price FLOAT,\n",
        "        unit_cost FLOAT,\n",
        "        total_revenue FLOAT,\n",
        "        total_cost FLOAT,\n",
        "        total_profit FLOAT\n",
        "    )\n",
        "\"\"\")"
      ],
      "metadata": {
        "id": "V3QiPXBsqKwq",
        "colab": {
          "base_uri": "https://localhost:8080/"
        },
        "outputId": "16c4e67c-b838-495d-8bd4-68d10eff976e"
      },
      "execution_count": 4,
      "outputs": [
        {
          "output_type": "execute_result",
          "data": {
            "text/plain": [
              "<cassandra.cluster.ResultSet at 0x7cd50a643790>"
            ]
          },
          "metadata": {},
          "execution_count": 4
        }
      ]
    },
    {
      "cell_type": "code",
      "source": [
        "import pandas as pd\n",
        "\n",
        "# Load the CSV file\n",
        "file = 'sales_100.csv'\n",
        "data = pd.read_csv(file)\n",
        "\n",
        "# Display the first few rows to verify\n",
        "print(data.head())\n"
      ],
      "metadata": {
        "colab": {
          "base_uri": "https://localhost:8080/"
        },
        "id": "KrIjxoTTdA9H",
        "outputId": "ae55cc2a-0ef3-41b0-af57-8f7a6e317819"
      },
      "execution_count": 1,
      "outputs": [
        {
          "output_type": "stream",
          "name": "stdout",
          "text": [
            "                         Region           Country  Item Type Sales Channel  \\\n",
            "0            Sub-Saharan Africa      South Africa     Fruits       Offline   \n",
            "1  Middle East and North Africa           Morocco    Clothes        Online   \n",
            "2         Australia and Oceania  Papua New Guinea       Meat       Offline   \n",
            "3            Sub-Saharan Africa          Djibouti    Clothes       Offline   \n",
            "4                        Europe          Slovakia  Beverages       Offline   \n",
            "\n",
            "  Order Priority  Order Date   Order ID   Ship Date  UnitsSold  UnitPrice  \\\n",
            "0              M   7/27/2012  443368995   7/28/2012       1593       9.33   \n",
            "1              M   9/14/2013  667593514  10/19/2013       4611     109.28   \n",
            "2              M   5/15/2015  940995585    6/4/2015        360     421.89   \n",
            "3              H   5/17/2017  880811536    7/2/2017        562     109.28   \n",
            "4              L  10/26/2016  174590194   12/4/2016       3973      47.45   \n",
            "\n",
            "   UnitCost  TotalRevenue  TotalCost  TotalProfit  \n",
            "0      6.92      14862.69   11023.56      3839.13  \n",
            "1     35.84     503890.08  165258.24    338631.84  \n",
            "2    364.69     151880.40  131288.40     20592.00  \n",
            "3     35.84      61415.36   20142.08     41273.28  \n",
            "4     31.79     188518.85  126301.67     62217.18  \n"
          ]
        }
      ]
    },
    {
      "cell_type": "code",
      "source": [
        "# Ensure dates are properly formatted\n",
        "data['Order Date'] = pd.to_datetime(data['Order Date'], format='%m/%d/%Y').dt.date\n",
        "data['Ship Date'] = pd.to_datetime(data['Ship Date'], format='%m/%d/%Y').dt.date\n",
        "\n",
        "\n",
        "# Preview data types\n",
        "print(data.dtypes)\n"
      ],
      "metadata": {
        "colab": {
          "base_uri": "https://localhost:8080/"
        },
        "id": "RA7cR_HYdA5r",
        "outputId": "27d6fd52-3fa2-4163-c5df-ffe36f17360a"
      },
      "execution_count": 9,
      "outputs": [
        {
          "output_type": "stream",
          "name": "stdout",
          "text": [
            "Region             object\n",
            "Country            object\n",
            "Item Type          object\n",
            "Sales Channel      object\n",
            "Order Priority     object\n",
            "Order Date         object\n",
            "Order ID            int64\n",
            "Ship Date          object\n",
            "UnitsSold           int64\n",
            "UnitPrice         float64\n",
            "UnitCost          float64\n",
            "TotalRevenue      float64\n",
            "TotalCost         float64\n",
            "TotalProfit       float64\n",
            "dtype: object\n"
          ]
        }
      ]
    },
    {
      "cell_type": "code",
      "source": [
        "from datetime import datetime\n",
        "\n",
        "for _, row in data.iterrows():\n",
        "    session.execute(\"\"\"\n",
        "        INSERT INTO bronze_table (\n",
        "            id,\n",
        "            region,\n",
        "            country,\n",
        "            item_type,\n",
        "            sales_channel,\n",
        "            order_priority,\n",
        "            order_date,\n",
        "            order_id,\n",
        "            ship_date,\n",
        "            units_sold,\n",
        "            unit_price,\n",
        "            unit_cost,\n",
        "            total_revenue,\n",
        "            total_cost,\n",
        "            total_profit\n",
        "        )\n",
        "        VALUES (%s, %s, %s, %s, %s, %s, %s, %s, %s, %s, %s, %s, %s, %s, %s)\n",
        "    \"\"\", (\n",
        "        uuid.uuid4(),  # Generate unique UUID\n",
        "        row['Region'],\n",
        "        row['Country'],\n",
        "        row['Item Type'],\n",
        "        row['Sales Channel'],\n",
        "        row['Order Priority'],\n",
        "        row['Order Date'],\n",
        "        int(row['Order ID']),\n",
        "        row['Ship Date'],\n",
        "        int(row['UnitsSold']),\n",
        "        float(row['UnitPrice']),\n",
        "        float(row['UnitCost']),\n",
        "        float(row['TotalRevenue']),\n",
        "        float(row['TotalCost']),\n",
        "        float(row['TotalProfit'])\n",
        "    ))\n"
      ],
      "metadata": {
        "id": "WeUjHyWCdAz7"
      },
      "execution_count": 10,
      "outputs": []
    },
    {
      "cell_type": "code",
      "source": [
        "rows = session.execute(\"SELECT * FROM bronze_table LIMIT 10;\")\n",
        "for row in rows:\n",
        "    print(row)\n"
      ],
      "metadata": {
        "colab": {
          "base_uri": "https://localhost:8080/"
        },
        "id": "8PT2tfzGdAxS",
        "outputId": "ac31e85f-e9c8-4e6d-dfd3-1ed5b7d8b619"
      },
      "execution_count": 17,
      "outputs": [
        {
          "output_type": "stream",
          "name": "stdout",
          "text": [
            "Row(id=UUID('343391bb-5d0f-4205-8589-fefed0d2d482'), country='Dominica', item_type='Beverages', order_date=Date(15503), order_id=438011872, order_priority='L', region='Central America and the Caribbean', sales_channel='Online', ship_date=Date(15539), total_cost=200308.796875, total_profit=98673.65625, total_revenue=298982.4375, unit_cost=31.790000915527344, unit_price=47.45000076293945, units_sold=6301)\n",
            "Row(id=UUID('0782d541-5e5f-4278-9cec-affa56f2b72f'), country='Serbia', item_type='Clothes', order_date=Date(16988), order_id=925136649, order_priority='L', region='Europe', sales_channel='Offline', ship_date=Date(16995), total_cost=263352.3125, total_profit=539637.125, total_revenue=802989.4375, unit_cost=35.84000015258789, unit_price=109.27999877929688, units_sold=7348)\n",
            "Row(id=UUID('981eed99-6906-4fa7-8300-d6f48acb9988'), country='The Bahamas', item_type='Fruits', order_date=Date(14778), order_id=488121116, order_priority='L', region='Central America and the Caribbean', sales_channel='Offline', ship_date=Date(14790), total_cost=32800.80078125, total_profit=11423.400390625, total_revenue=44224.19921875, unit_cost=6.920000076293945, unit_price=9.329999923706055, units_sold=4740)\n",
            "Row(id=UUID('c805de87-0906-4f5d-9be1-c187e8482634'), country='Liberia', item_type='Baby Food', order_date=Date(16592), order_id=146634709, order_priority='H', region='Sub-Saharan Africa', sales_channel='Offline', ship_date=Date(16598), total_cost=211072.078125, total_profit=126918.640625, total_revenue=337990.71875, unit_cost=159.4199981689453, unit_price=255.27999877929688, units_sold=1324)\n",
            "Row(id=UUID('663a832e-e87f-4ef6-8540-ec7aac7d22dd'), country='Switzerland', item_type='Office Supplies', order_date=Date(16280), order_id=830410039, order_priority='C', region='Europe', sales_channel='Offline', ship_date=Date(16309), total_cost=2960249.5, total_profit=711923.75, total_revenue=3672173.25, unit_cost=524.9600219726562, unit_price=651.2100219726562, units_sold=5639)\n",
            "Row(id=UUID('437233f1-4358-452b-99f5-d63e37ace658'), country='Haiti', item_type='Office Supplies', order_date=Date(14974), order_id=485070693, order_priority='C', region='Central America and the Caribbean', sales_channel='Online', ship_date=Date(15005), total_cost=1077217.875, total_profit=259065.0, total_revenue=1336282.875, unit_cost=524.9600219726562, unit_price=651.2100219726562, units_sold=2052)\n",
            "Row(id=UUID('ba26b737-cffb-44c5-acc6-9db6a9482f6d'), country='Burundi', item_type='Beverages', order_date=Date(15042), order_id=529276502, order_priority='H', region='Sub-Saharan Africa', sales_channel='Online', ship_date=Date(15073), total_cost=112314.0703125, total_profit=55326.78125, total_revenue=167640.84375, unit_cost=31.790000915527344, unit_price=47.45000076293945, units_sold=3533)\n",
            "Row(id=UUID('6519af68-df7c-457d-bed2-15640e2a6bfd'), country='Montenegro', item_type='Clothes', order_date=Date(17048), order_id=902511680, order_priority='M', region='Europe', sales_channel='Offline', ship_date=Date(17052), total_cost=75873.28125, total_profit=155472.484375, total_revenue=231345.765625, unit_cost=35.84000015258789, unit_price=109.27999877929688, units_sold=2117)\n",
            "Row(id=UUID('af5a8bdb-d39f-4807-83ad-5d96d473af6b'), country='Indonesia', item_type='Household', order_date=Date(15245), order_id=520480573, order_priority='C', region='Asia', sales_channel='Online', ship_date=Date(15245), total_cost=313082.40625, total_profit=103249.7890625, total_revenue=416332.21875, unit_cost=502.5400085449219, unit_price=668.27001953125, units_sold=623)\n",
            "Row(id=UUID('27bebab6-826a-4dde-b540-19778c0eeddf'), country='Tonga', item_type='Baby Food', order_date=Date(16932), order_id=839094388, order_priority='L', region='Australia and Oceania', sales_channel='Online', ship_date=Date(16952), total_cost=881752.0, total_profit=530201.6875, total_revenue=1411953.625, unit_cost=159.4199981689453, unit_price=255.27999877929688, units_sold=5531)\n"
          ]
        }
      ]
    },
    {
      "cell_type": "markdown",
      "source": [
        "### Silver table"
      ],
      "metadata": {
        "id": "1dKfgAaxgV4n"
      }
    },
    {
      "cell_type": "markdown",
      "source": [
        "#### Cleaning data"
      ],
      "metadata": {
        "id": "A-HbJyGWgaeV"
      }
    },
    {
      "cell_type": "code",
      "source": [
        "rows = session.execute(\"SELECT * FROM bronze_table;\")\n",
        "# Convert rows to a list of dictionaries\n",
        "data = [dict(row._asdict()) for row in rows]\n",
        "\n",
        "# Create a DataFrame\n",
        "df = pd.DataFrame(data)\n",
        "\n",
        "# Display the DataFrame\n",
        "print(df.head(2))\n"
      ],
      "metadata": {
        "colab": {
          "base_uri": "https://localhost:8080/"
        },
        "id": "xjYqfDMUdAsB",
        "outputId": "11b90da1-1e3e-4c90-f8af-9d516b175406"
      },
      "execution_count": 24,
      "outputs": [
        {
          "output_type": "stream",
          "name": "stdout",
          "text": [
            "                                     id   country  item_type  order_date  \\\n",
            "0  343391bb-5d0f-4205-8589-fefed0d2d482  Dominica  Beverages  2012-06-12   \n",
            "1  0782d541-5e5f-4278-9cec-affa56f2b72f    Serbia    Clothes  2016-07-06   \n",
            "\n",
            "    order_id order_priority                             region sales_channel  \\\n",
            "0  438011872              L  Central America and the Caribbean        Online   \n",
            "1  925136649              L                             Europe       Offline   \n",
            "\n",
            "    ship_date     total_cost  total_profit  total_revenue  unit_cost  \\\n",
            "0  2012-07-18  200308.796875   98673.65625    298982.4375  31.790001   \n",
            "1  2016-07-13  263352.312500  539637.12500    802989.4375  35.840000   \n",
            "\n",
            "   unit_price  units_sold  \n",
            "0   47.450001        6301  \n",
            "1  109.279999        7348  \n"
          ]
        }
      ]
    },
    {
      "cell_type": "markdown",
      "source": [
        "##### checking for missing values"
      ],
      "metadata": {
        "id": "5etg0KRehISz"
      }
    },
    {
      "cell_type": "code",
      "source": [
        "print(df.isnull().sum())\n"
      ],
      "metadata": {
        "colab": {
          "base_uri": "https://localhost:8080/"
        },
        "id": "1rwF84hLdApU",
        "outputId": "b1f56b18-2b7e-4275-d37f-7c0af16e75e7"
      },
      "execution_count": 26,
      "outputs": [
        {
          "output_type": "stream",
          "name": "stdout",
          "text": [
            "id                0\n",
            "country           0\n",
            "item_type         0\n",
            "order_date        0\n",
            "order_id          0\n",
            "order_priority    0\n",
            "region            0\n",
            "sales_channel     0\n",
            "ship_date         0\n",
            "total_cost        0\n",
            "total_profit      0\n",
            "total_revenue     0\n",
            "unit_cost         0\n",
            "unit_price        0\n",
            "units_sold        0\n",
            "dtype: int64\n"
          ]
        }
      ]
    },
    {
      "cell_type": "markdown",
      "source": [],
      "metadata": {
        "id": "VJQN5Ql4hLRI"
      }
    },
    {
      "cell_type": "code",
      "source": [
        "print(df.duplicated().sum())\n"
      ],
      "metadata": {
        "colab": {
          "base_uri": "https://localhost:8080/"
        },
        "id": "OU-edYmRdAji",
        "outputId": "f2febd15-0fc0-4066-9b51-737d2cae82d1"
      },
      "execution_count": 27,
      "outputs": [
        {
          "output_type": "stream",
          "name": "stdout",
          "text": [
            "0\n"
          ]
        }
      ]
    },
    {
      "cell_type": "code",
      "source": [
        "print(df['region'].unique())\n",
        "print(df['sales_channel'].unique())\n"
      ],
      "metadata": {
        "colab": {
          "base_uri": "https://localhost:8080/"
        },
        "id": "IEu1PnW_dATK",
        "outputId": "6d4e5a72-e5f9-4f65-c7a0-9252fe954bd3"
      },
      "execution_count": 29,
      "outputs": [
        {
          "output_type": "stream",
          "name": "stdout",
          "text": [
            "['Central America and the Caribbean' 'Europe' 'Sub-Saharan Africa' 'Asia'\n",
            " 'Australia and Oceania' 'Middle East and North Africa' 'North America']\n",
            "['Online' 'Offline']\n"
          ]
        }
      ]
    },
    {
      "cell_type": "code",
      "source": [
        "print(df.info())"
      ],
      "metadata": {
        "colab": {
          "base_uri": "https://localhost:8080/"
        },
        "id": "qyxDvQtMhuPE",
        "outputId": "915cfa42-15ba-46f0-b857-5438118088f9"
      },
      "execution_count": 30,
      "outputs": [
        {
          "output_type": "stream",
          "name": "stdout",
          "text": [
            "<class 'pandas.core.frame.DataFrame'>\n",
            "RangeIndex: 99 entries, 0 to 98\n",
            "Data columns (total 15 columns):\n",
            " #   Column          Non-Null Count  Dtype  \n",
            "---  ------          --------------  -----  \n",
            " 0   id              99 non-null     object \n",
            " 1   country         99 non-null     object \n",
            " 2   item_type       99 non-null     object \n",
            " 3   order_date      99 non-null     object \n",
            " 4   order_id        99 non-null     int64  \n",
            " 5   order_priority  99 non-null     object \n",
            " 6   region          99 non-null     object \n",
            " 7   sales_channel   99 non-null     object \n",
            " 8   ship_date       99 non-null     object \n",
            " 9   total_cost      99 non-null     float64\n",
            " 10  total_profit    99 non-null     float64\n",
            " 11  total_revenue   99 non-null     float64\n",
            " 12  unit_cost       99 non-null     float64\n",
            " 13  unit_price      99 non-null     float64\n",
            " 14  units_sold      99 non-null     int64  \n",
            "dtypes: float64(5), int64(2), object(8)\n",
            "memory usage: 11.7+ KB\n",
            "None\n"
          ]
        }
      ]
    },
    {
      "cell_type": "markdown",
      "source": [
        "##### Data looks clean"
      ],
      "metadata": {
        "id": "tJRPIr7Hh_Hx"
      }
    },
    {
      "cell_type": "code",
      "source": [
        "session.execute(\"\"\"\n",
        "    CREATE TABLE IF NOT EXISTS silver_table (\n",
        "        id UUID PRIMARY KEY,\n",
        "        region TEXT,\n",
        "        country TEXT,\n",
        "        item_type TEXT,\n",
        "        sales_channel TEXT,\n",
        "        order_priority TEXT,\n",
        "        order_date DATE,\n",
        "        order_id BIGINT,\n",
        "        ship_date DATE,\n",
        "        units_sold INT,\n",
        "        unit_price FLOAT,\n",
        "        unit_cost FLOAT,\n",
        "        total_revenue FLOAT,\n",
        "        total_cost FLOAT,\n",
        "        total_profit FLOAT\n",
        "    )\n",
        "\"\"\")"
      ],
      "metadata": {
        "colab": {
          "base_uri": "https://localhost:8080/"
        },
        "id": "fUVMgvsxh9bO",
        "outputId": "c4f908a9-2b6f-48c5-c2c0-f3ec18c37e18"
      },
      "execution_count": 31,
      "outputs": [
        {
          "output_type": "execute_result",
          "data": {
            "text/plain": [
              "<cassandra.cluster.ResultSet at 0x7d5b96b11a80>"
            ]
          },
          "metadata": {},
          "execution_count": 31
        }
      ]
    },
    {
      "cell_type": "code",
      "source": [
        "for _, row in df.iterrows():\n",
        "    session.execute(\"\"\"\n",
        "        INSERT INTO silver_table (\n",
        "            id,\n",
        "            region,\n",
        "            country,\n",
        "            item_type,\n",
        "            sales_channel,\n",
        "            order_priority,\n",
        "            order_date,\n",
        "            order_id,\n",
        "            ship_date,\n",
        "            units_sold,\n",
        "            unit_price,\n",
        "            unit_cost,\n",
        "            total_revenue,\n",
        "            total_cost,\n",
        "            total_profit\n",
        "        )\n",
        "        VALUES (%s, %s, %s, %s, %s, %s, %s, %s, %s, %s, %s, %s, %s, %s, %s)\n",
        "    \"\"\", (\n",
        "        uuid.uuid4(),\n",
        "        row['region'],\n",
        "        row['country'],\n",
        "        row['item_type'],\n",
        "        row['sales_channel'],\n",
        "        row['order_priority'],\n",
        "        row['order_date'],\n",
        "        int(row['order_id']),\n",
        "        row['ship_date'],\n",
        "        int(row['units_sold']),\n",
        "        float(row['unit_price']),\n",
        "        float(row['unit_cost']),\n",
        "        float(row['total_revenue']),\n",
        "        float(row['total_cost']),\n",
        "        float(row['total_profit'])\n",
        "    ))\n",
        "\n",
        "print(\"Data inserted successfully.\")\n"
      ],
      "metadata": {
        "colab": {
          "base_uri": "https://localhost:8080/"
        },
        "id": "A1GKiM9RivVq",
        "outputId": "3c9f4643-d4d5-4144-ed22-2b3ba4f9a6a9"
      },
      "execution_count": 34,
      "outputs": [
        {
          "output_type": "stream",
          "name": "stdout",
          "text": [
            "Data inserted successfully.\n"
          ]
        }
      ]
    },
    {
      "cell_type": "code",
      "source": [
        "rows = session.execute(\"SELECT * FROM silver_table;\")\n",
        "# Convert rows to a list of dictionaries\n",
        "data = [dict(row._asdict()) for row in rows]\n",
        "\n",
        "# Create a DataFrame\n",
        "silver_df = pd.DataFrame(data)\n",
        "\n",
        "# Display the DataFrame\n",
        "print(silver_df.head(2))"
      ],
      "metadata": {
        "colab": {
          "base_uri": "https://localhost:8080/"
        },
        "id": "M7KkvPqCi7ha",
        "outputId": "e982ec31-b57e-4e60-be8a-8ed6f4ea3cb9"
      },
      "execution_count": 35,
      "outputs": [
        {
          "output_type": "stream",
          "name": "stdout",
          "text": [
            "                                     id  country      item_type  order_date  \\\n",
            "0  1df4f488-c502-4a38-bbe1-96dfe8814439  Belgium  Personal Care  2011-11-01   \n",
            "1  9fa31f82-1c43-42a1-a0d9-d0337e72848d  Iceland      Baby Food  2010-10-02   \n",
            "\n",
            "    order_id order_priority  region sales_channel   ship_date    total_cost  \\\n",
            "0  222504317              H  Europe        Online  2011-11-20  160206.09375   \n",
            "1  678230941              M  Europe       Offline  2010-11-03  392492.03125   \n",
            "\n",
            "    total_profit  total_revenue   unit_cost  unit_price  units_sold  \n",
            "0   70844.617188  231050.703125   56.669998   81.730003        2827  \n",
            "1  236007.312500  628499.375000  159.419998  255.279999        2462  \n"
          ]
        }
      ]
    },
    {
      "cell_type": "markdown",
      "source": [
        "## 1. Lets see the profitability with sales chanel"
      ],
      "metadata": {
        "id": "L2fi3drfk0Su"
      }
    },
    {
      "cell_type": "code",
      "source": [
        "session.execute('''\n",
        "CREATE TABLE IF NOT EXISTS profitability_by_sales_channel (\n",
        "    sales_channel TEXT PRIMARY KEY,\n",
        "    total_orders INT,\n",
        "    total_units_sold INT,\n",
        "    total_revenue FLOAT,\n",
        "    total_profit FLOAT,\n",
        "    avg_order_value FLOAT,\n",
        "    avg_profit_margin FLOAT\n",
        ");''')"
      ],
      "metadata": {
        "colab": {
          "base_uri": "https://localhost:8080/"
        },
        "id": "Co-QPTvvk3Um",
        "outputId": "bdaf7da5-5649-4e84-e58a-4de85fb37b44"
      },
      "execution_count": 36,
      "outputs": [
        {
          "output_type": "execute_result",
          "data": {
            "text/plain": [
              "<cassandra.cluster.ResultSet at 0x7d5b66547970>"
            ]
          },
          "metadata": {},
          "execution_count": 36
        }
      ]
    },
    {
      "cell_type": "code",
      "source": [
        "channel_data = silver_df.groupby('sales_channel').agg({\n",
        "    'order_id': 'nunique',\n",
        "    'units_sold': 'sum',\n",
        "    'total_revenue': 'sum',\n",
        "    'total_profit': 'sum'\n",
        "}).reset_index()\n",
        "\n",
        "channel_data.rename(columns={'order_id': 'TotalOrders'}, inplace=True)\n",
        "channel_data['AvgOrderValue'] = channel_data['total_revenue'] / channel_data['TotalOrders']\n",
        "channel_data['AvgProfitMargin'] = channel_data['total_profit'] / channel_data['total_revenue']\n",
        "\n",
        "for _, row in channel_data.iterrows():\n",
        "    session.execute(\"\"\"\n",
        "        INSERT INTO profitability_by_sales_channel (\n",
        "            sales_channel, total_orders, total_units_sold, total_revenue, total_profit, avg_order_value, avg_profit_margin\n",
        "        ) VALUES (%s, %s, %s, %s, %s, %s, %s)\n",
        "    \"\"\", (\n",
        "        row['sales_channel'],\n",
        "        int(row['TotalOrders']),\n",
        "        int(row['units_sold']),\n",
        "        float(row['total_revenue']),\n",
        "        float(row['total_profit']),\n",
        "        float(row['AvgOrderValue']),\n",
        "        float(row['AvgProfitMargin'])\n",
        "    ))\n"
      ],
      "metadata": {
        "id": "WIB83glSlDHh"
      },
      "execution_count": 41,
      "outputs": []
    },
    {
      "cell_type": "code",
      "source": [
        "rows = session.execute(\"SELECT * FROM profitability_by_sales_channel;\")\n",
        "# Convert rows to a list of dictionaries\n",
        "data2 = [dict(row._asdict()) for row in rows]\n",
        "\n",
        "# Create a DataFrame\n",
        "profitability_by_sales_channel_df = pd.DataFrame(data2)\n",
        "\n",
        "# Display the DataFrame\n",
        "profitability_by_sales_channel_df.head()"
      ],
      "metadata": {
        "colab": {
          "base_uri": "https://localhost:8080/",
          "height": 112
        },
        "id": "78n_9J-dnSfR",
        "outputId": "8fb7c083-00ce-42d5-fdec-5f6327172d66"
      },
      "execution_count": 46,
      "outputs": [
        {
          "output_type": "execute_result",
          "data": {
            "text/plain": [
              "  sales_channel  avg_order_value  avg_profit_margin  total_orders  \\\n",
              "0        Online      1434376.000           0.294982            59   \n",
              "1       Offline      1501544.875           0.272443            40   \n",
              "\n",
              "   total_profit  total_revenue  total_units_sold  \n",
              "0    24963806.0     84628184.0            308320  \n",
              "1    16363386.0     60061792.0            186490  "
            ],
            "text/html": [
              "\n",
              "  <div id=\"df-b4f13362-3676-465c-b3ff-d0bdd54b2ee5\" class=\"colab-df-container\">\n",
              "    <div>\n",
              "<style scoped>\n",
              "    .dataframe tbody tr th:only-of-type {\n",
              "        vertical-align: middle;\n",
              "    }\n",
              "\n",
              "    .dataframe tbody tr th {\n",
              "        vertical-align: top;\n",
              "    }\n",
              "\n",
              "    .dataframe thead th {\n",
              "        text-align: right;\n",
              "    }\n",
              "</style>\n",
              "<table border=\"1\" class=\"dataframe\">\n",
              "  <thead>\n",
              "    <tr style=\"text-align: right;\">\n",
              "      <th></th>\n",
              "      <th>sales_channel</th>\n",
              "      <th>avg_order_value</th>\n",
              "      <th>avg_profit_margin</th>\n",
              "      <th>total_orders</th>\n",
              "      <th>total_profit</th>\n",
              "      <th>total_revenue</th>\n",
              "      <th>total_units_sold</th>\n",
              "    </tr>\n",
              "  </thead>\n",
              "  <tbody>\n",
              "    <tr>\n",
              "      <th>0</th>\n",
              "      <td>Online</td>\n",
              "      <td>1434376.000</td>\n",
              "      <td>0.294982</td>\n",
              "      <td>59</td>\n",
              "      <td>24963806.0</td>\n",
              "      <td>84628184.0</td>\n",
              "      <td>308320</td>\n",
              "    </tr>\n",
              "    <tr>\n",
              "      <th>1</th>\n",
              "      <td>Offline</td>\n",
              "      <td>1501544.875</td>\n",
              "      <td>0.272443</td>\n",
              "      <td>40</td>\n",
              "      <td>16363386.0</td>\n",
              "      <td>60061792.0</td>\n",
              "      <td>186490</td>\n",
              "    </tr>\n",
              "  </tbody>\n",
              "</table>\n",
              "</div>\n",
              "    <div class=\"colab-df-buttons\">\n",
              "\n",
              "  <div class=\"colab-df-container\">\n",
              "    <button class=\"colab-df-convert\" onclick=\"convertToInteractive('df-b4f13362-3676-465c-b3ff-d0bdd54b2ee5')\"\n",
              "            title=\"Convert this dataframe to an interactive table.\"\n",
              "            style=\"display:none;\">\n",
              "\n",
              "  <svg xmlns=\"http://www.w3.org/2000/svg\" height=\"24px\" viewBox=\"0 -960 960 960\">\n",
              "    <path d=\"M120-120v-720h720v720H120Zm60-500h600v-160H180v160Zm220 220h160v-160H400v160Zm0 220h160v-160H400v160ZM180-400h160v-160H180v160Zm440 0h160v-160H620v160ZM180-180h160v-160H180v160Zm440 0h160v-160H620v160Z\"/>\n",
              "  </svg>\n",
              "    </button>\n",
              "\n",
              "  <style>\n",
              "    .colab-df-container {\n",
              "      display:flex;\n",
              "      gap: 12px;\n",
              "    }\n",
              "\n",
              "    .colab-df-convert {\n",
              "      background-color: #E8F0FE;\n",
              "      border: none;\n",
              "      border-radius: 50%;\n",
              "      cursor: pointer;\n",
              "      display: none;\n",
              "      fill: #1967D2;\n",
              "      height: 32px;\n",
              "      padding: 0 0 0 0;\n",
              "      width: 32px;\n",
              "    }\n",
              "\n",
              "    .colab-df-convert:hover {\n",
              "      background-color: #E2EBFA;\n",
              "      box-shadow: 0px 1px 2px rgba(60, 64, 67, 0.3), 0px 1px 3px 1px rgba(60, 64, 67, 0.15);\n",
              "      fill: #174EA6;\n",
              "    }\n",
              "\n",
              "    .colab-df-buttons div {\n",
              "      margin-bottom: 4px;\n",
              "    }\n",
              "\n",
              "    [theme=dark] .colab-df-convert {\n",
              "      background-color: #3B4455;\n",
              "      fill: #D2E3FC;\n",
              "    }\n",
              "\n",
              "    [theme=dark] .colab-df-convert:hover {\n",
              "      background-color: #434B5C;\n",
              "      box-shadow: 0px 1px 3px 1px rgba(0, 0, 0, 0.15);\n",
              "      filter: drop-shadow(0px 1px 2px rgba(0, 0, 0, 0.3));\n",
              "      fill: #FFFFFF;\n",
              "    }\n",
              "  </style>\n",
              "\n",
              "    <script>\n",
              "      const buttonEl =\n",
              "        document.querySelector('#df-b4f13362-3676-465c-b3ff-d0bdd54b2ee5 button.colab-df-convert');\n",
              "      buttonEl.style.display =\n",
              "        google.colab.kernel.accessAllowed ? 'block' : 'none';\n",
              "\n",
              "      async function convertToInteractive(key) {\n",
              "        const element = document.querySelector('#df-b4f13362-3676-465c-b3ff-d0bdd54b2ee5');\n",
              "        const dataTable =\n",
              "          await google.colab.kernel.invokeFunction('convertToInteractive',\n",
              "                                                    [key], {});\n",
              "        if (!dataTable) return;\n",
              "\n",
              "        const docLinkHtml = 'Like what you see? Visit the ' +\n",
              "          '<a target=\"_blank\" href=https://colab.research.google.com/notebooks/data_table.ipynb>data table notebook</a>'\n",
              "          + ' to learn more about interactive tables.';\n",
              "        element.innerHTML = '';\n",
              "        dataTable['output_type'] = 'display_data';\n",
              "        await google.colab.output.renderOutput(dataTable, element);\n",
              "        const docLink = document.createElement('div');\n",
              "        docLink.innerHTML = docLinkHtml;\n",
              "        element.appendChild(docLink);\n",
              "      }\n",
              "    </script>\n",
              "  </div>\n",
              "\n",
              "\n",
              "<div id=\"df-98119f58-1f73-4c73-92f2-772dedbbfed9\">\n",
              "  <button class=\"colab-df-quickchart\" onclick=\"quickchart('df-98119f58-1f73-4c73-92f2-772dedbbfed9')\"\n",
              "            title=\"Suggest charts\"\n",
              "            style=\"display:none;\">\n",
              "\n",
              "<svg xmlns=\"http://www.w3.org/2000/svg\" height=\"24px\"viewBox=\"0 0 24 24\"\n",
              "     width=\"24px\">\n",
              "    <g>\n",
              "        <path d=\"M19 3H5c-1.1 0-2 .9-2 2v14c0 1.1.9 2 2 2h14c1.1 0 2-.9 2-2V5c0-1.1-.9-2-2-2zM9 17H7v-7h2v7zm4 0h-2V7h2v10zm4 0h-2v-4h2v4z\"/>\n",
              "    </g>\n",
              "</svg>\n",
              "  </button>\n",
              "\n",
              "<style>\n",
              "  .colab-df-quickchart {\n",
              "      --bg-color: #E8F0FE;\n",
              "      --fill-color: #1967D2;\n",
              "      --hover-bg-color: #E2EBFA;\n",
              "      --hover-fill-color: #174EA6;\n",
              "      --disabled-fill-color: #AAA;\n",
              "      --disabled-bg-color: #DDD;\n",
              "  }\n",
              "\n",
              "  [theme=dark] .colab-df-quickchart {\n",
              "      --bg-color: #3B4455;\n",
              "      --fill-color: #D2E3FC;\n",
              "      --hover-bg-color: #434B5C;\n",
              "      --hover-fill-color: #FFFFFF;\n",
              "      --disabled-bg-color: #3B4455;\n",
              "      --disabled-fill-color: #666;\n",
              "  }\n",
              "\n",
              "  .colab-df-quickchart {\n",
              "    background-color: var(--bg-color);\n",
              "    border: none;\n",
              "    border-radius: 50%;\n",
              "    cursor: pointer;\n",
              "    display: none;\n",
              "    fill: var(--fill-color);\n",
              "    height: 32px;\n",
              "    padding: 0;\n",
              "    width: 32px;\n",
              "  }\n",
              "\n",
              "  .colab-df-quickchart:hover {\n",
              "    background-color: var(--hover-bg-color);\n",
              "    box-shadow: 0 1px 2px rgba(60, 64, 67, 0.3), 0 1px 3px 1px rgba(60, 64, 67, 0.15);\n",
              "    fill: var(--button-hover-fill-color);\n",
              "  }\n",
              "\n",
              "  .colab-df-quickchart-complete:disabled,\n",
              "  .colab-df-quickchart-complete:disabled:hover {\n",
              "    background-color: var(--disabled-bg-color);\n",
              "    fill: var(--disabled-fill-color);\n",
              "    box-shadow: none;\n",
              "  }\n",
              "\n",
              "  .colab-df-spinner {\n",
              "    border: 2px solid var(--fill-color);\n",
              "    border-color: transparent;\n",
              "    border-bottom-color: var(--fill-color);\n",
              "    animation:\n",
              "      spin 1s steps(1) infinite;\n",
              "  }\n",
              "\n",
              "  @keyframes spin {\n",
              "    0% {\n",
              "      border-color: transparent;\n",
              "      border-bottom-color: var(--fill-color);\n",
              "      border-left-color: var(--fill-color);\n",
              "    }\n",
              "    20% {\n",
              "      border-color: transparent;\n",
              "      border-left-color: var(--fill-color);\n",
              "      border-top-color: var(--fill-color);\n",
              "    }\n",
              "    30% {\n",
              "      border-color: transparent;\n",
              "      border-left-color: var(--fill-color);\n",
              "      border-top-color: var(--fill-color);\n",
              "      border-right-color: var(--fill-color);\n",
              "    }\n",
              "    40% {\n",
              "      border-color: transparent;\n",
              "      border-right-color: var(--fill-color);\n",
              "      border-top-color: var(--fill-color);\n",
              "    }\n",
              "    60% {\n",
              "      border-color: transparent;\n",
              "      border-right-color: var(--fill-color);\n",
              "    }\n",
              "    80% {\n",
              "      border-color: transparent;\n",
              "      border-right-color: var(--fill-color);\n",
              "      border-bottom-color: var(--fill-color);\n",
              "    }\n",
              "    90% {\n",
              "      border-color: transparent;\n",
              "      border-bottom-color: var(--fill-color);\n",
              "    }\n",
              "  }\n",
              "</style>\n",
              "\n",
              "  <script>\n",
              "    async function quickchart(key) {\n",
              "      const quickchartButtonEl =\n",
              "        document.querySelector('#' + key + ' button');\n",
              "      quickchartButtonEl.disabled = true;  // To prevent multiple clicks.\n",
              "      quickchartButtonEl.classList.add('colab-df-spinner');\n",
              "      try {\n",
              "        const charts = await google.colab.kernel.invokeFunction(\n",
              "            'suggestCharts', [key], {});\n",
              "      } catch (error) {\n",
              "        console.error('Error during call to suggestCharts:', error);\n",
              "      }\n",
              "      quickchartButtonEl.classList.remove('colab-df-spinner');\n",
              "      quickchartButtonEl.classList.add('colab-df-quickchart-complete');\n",
              "    }\n",
              "    (() => {\n",
              "      let quickchartButtonEl =\n",
              "        document.querySelector('#df-98119f58-1f73-4c73-92f2-772dedbbfed9 button');\n",
              "      quickchartButtonEl.style.display =\n",
              "        google.colab.kernel.accessAllowed ? 'block' : 'none';\n",
              "    })();\n",
              "  </script>\n",
              "</div>\n",
              "\n",
              "    </div>\n",
              "  </div>\n"
            ],
            "application/vnd.google.colaboratory.intrinsic+json": {
              "type": "dataframe",
              "variable_name": "profitability_by_sales_channel_df",
              "summary": "{\n  \"name\": \"profitability_by_sales_channel_df\",\n  \"rows\": 2,\n  \"fields\": [\n    {\n      \"column\": \"sales_channel\",\n      \"properties\": {\n        \"dtype\": \"string\",\n        \"num_unique_values\": 2,\n        \"samples\": [\n          \"Offline\",\n          \"Online\"\n        ],\n        \"semantic_type\": \"\",\n        \"description\": \"\"\n      }\n    },\n    {\n      \"column\": \"avg_order_value\",\n      \"properties\": {\n        \"dtype\": \"number\",\n        \"std\": 47495.56699717156,\n        \"min\": 1434376.0,\n        \"max\": 1501544.875,\n        \"num_unique_values\": 2,\n        \"samples\": [\n          1501544.875,\n          1434376.0\n        ],\n        \"semantic_type\": \"\",\n        \"description\": \"\"\n      }\n    },\n    {\n      \"column\": \"avg_profit_margin\",\n      \"properties\": {\n        \"dtype\": \"number\",\n        \"std\": 0.01593795720494011,\n        \"min\": 0.2724425196647644,\n        \"max\": 0.2949821949005127,\n        \"num_unique_values\": 2,\n        \"samples\": [\n          0.2724425196647644,\n          0.2949821949005127\n        ],\n        \"semantic_type\": \"\",\n        \"description\": \"\"\n      }\n    },\n    {\n      \"column\": \"total_orders\",\n      \"properties\": {\n        \"dtype\": \"number\",\n        \"std\": 13,\n        \"min\": 40,\n        \"max\": 59,\n        \"num_unique_values\": 2,\n        \"samples\": [\n          40,\n          59\n        ],\n        \"semantic_type\": \"\",\n        \"description\": \"\"\n      }\n    },\n    {\n      \"column\": \"total_profit\",\n      \"properties\": {\n        \"dtype\": \"number\",\n        \"std\": 6081415.303052407,\n        \"min\": 16363386.0,\n        \"max\": 24963806.0,\n        \"num_unique_values\": 2,\n        \"samples\": [\n          16363386.0,\n          24963806.0\n        ],\n        \"semantic_type\": \"\",\n        \"description\": \"\"\n      }\n    },\n    {\n      \"column\": \"total_revenue\",\n      \"properties\": {\n        \"dtype\": \"number\",\n        \"std\": 17371062.372486953,\n        \"min\": 60061792.0,\n        \"max\": 84628184.0,\n        \"num_unique_values\": 2,\n        \"samples\": [\n          60061792.0,\n          84628184.0\n        ],\n        \"semantic_type\": \"\",\n        \"description\": \"\"\n      }\n    },\n    {\n      \"column\": \"total_units_sold\",\n      \"properties\": {\n        \"dtype\": \"number\",\n        \"std\": 86146,\n        \"min\": 186490,\n        \"max\": 308320,\n        \"num_unique_values\": 2,\n        \"samples\": [\n          186490,\n          308320\n        ],\n        \"semantic_type\": \"\",\n        \"description\": \"\"\n      }\n    }\n  ]\n}"
            }
          },
          "metadata": {},
          "execution_count": 46
        }
      ]
    },
    {
      "cell_type": "markdown",
      "source": [
        "### Online mode has more profit"
      ],
      "metadata": {
        "id": "vVQa1_qdo6yX"
      }
    },
    {
      "cell_type": "markdown",
      "source": [
        "### 2. sales_performance_region\n",
        "\n",
        "\n",
        "\n"
      ],
      "metadata": {
        "id": "T9_K_qFcpMqf"
      }
    },
    {
      "cell_type": "code",
      "source": [
        "session.execute('''\n",
        "CREATE TABLE IF NOT EXISTS sales_performance_region (\n",
        "    region TEXT PRIMARY KEY,\n",
        "    total_units_sold INT,\n",
        "    total_revenue FLOAT,\n",
        "    total_profit FLOAT,\n",
        "    avg_profit_margin FLOAT\n",
        ");\n",
        "\n",
        "''')"
      ],
      "metadata": {
        "colab": {
          "base_uri": "https://localhost:8080/"
        },
        "id": "FDf1vt06uWdO",
        "outputId": "7d748c75-12ed-4c7c-e733-9e15dda4b8fb"
      },
      "execution_count": 59,
      "outputs": [
        {
          "output_type": "execute_result",
          "data": {
            "text/plain": [
              "<cassandra.cluster.ResultSet at 0x7d5b4ba73ca0>"
            ]
          },
          "metadata": {},
          "execution_count": 59
        }
      ]
    },
    {
      "cell_type": "code",
      "source": [
        "region_data = silver_df.groupby('region').agg({\n",
        "    'units_sold': 'sum',\n",
        "    'total_revenue': 'sum',\n",
        "    'total_profit': 'sum'\n",
        "}).reset_index()\n",
        "region_data['AvgProfitMargin'] = (region_data['total_profit'] / region_data['total_revenue']) * 100\n",
        "\n",
        "for _, row in region_data.iterrows():\n",
        "    session.execute(\"\"\"\n",
        "        INSERT INTO sales_performance_region (\n",
        "            region, total_units_sold, total_revenue, total_profit, avg_profit_margin\n",
        "        ) VALUES (%s, %s, %s, %s, %s)\n",
        "    \"\"\", (\n",
        "        row['region'],\n",
        "        int(row['units_sold']),\n",
        "        float(row['total_revenue']),\n",
        "        float(row['total_profit']),\n",
        "        float(row['AvgProfitMargin'])\n",
        "    ))\n"
      ],
      "metadata": {
        "id": "ZGNaFihEwEAA"
      },
      "execution_count": 62,
      "outputs": []
    },
    {
      "cell_type": "code",
      "source": [
        "rows = session.execute(\"SELECT * FROM sales_performance_region;\")\n",
        "data4 = [dict(row._asdict()) for row in rows]\n",
        "sales_performance_region_df = pd.DataFrame(data4)\n",
        "sales_performance_region_df.head()"
      ],
      "metadata": {
        "colab": {
          "base_uri": "https://localhost:8080/",
          "height": 206
        },
        "id": "d9MO2tWQx0Wd",
        "outputId": "c6f284b8-4628-4146-a746-be5cc478c377"
      },
      "execution_count": 63,
      "outputs": [
        {
          "output_type": "execute_result",
          "data": {
            "text/plain": [
              "                              region  avg_profit_margin  total_profit  \\\n",
              "0              Australia and Oceania          32.553974     3486940.0   \n",
              "1                             Europe          32.224686    11267281.0   \n",
              "2       Middle East and North Africa          26.304173     6514262.0   \n",
              "3  Central America and the Caribbean          24.200899     4252300.0   \n",
              "4                               Asia          23.403975     6749896.0   \n",
              "\n",
              "   total_revenue  total_units_sold  \n",
              "0     10711258.0             42328  \n",
              "1     34964748.0            121002  \n",
              "2     24765128.0             60376  \n",
              "3     17570836.0             53641  \n",
              "4     28840812.0            113129  "
            ],
            "text/html": [
              "\n",
              "  <div id=\"df-0b5e694e-ffc0-475a-871a-8d84e5f265e9\" class=\"colab-df-container\">\n",
              "    <div>\n",
              "<style scoped>\n",
              "    .dataframe tbody tr th:only-of-type {\n",
              "        vertical-align: middle;\n",
              "    }\n",
              "\n",
              "    .dataframe tbody tr th {\n",
              "        vertical-align: top;\n",
              "    }\n",
              "\n",
              "    .dataframe thead th {\n",
              "        text-align: right;\n",
              "    }\n",
              "</style>\n",
              "<table border=\"1\" class=\"dataframe\">\n",
              "  <thead>\n",
              "    <tr style=\"text-align: right;\">\n",
              "      <th></th>\n",
              "      <th>region</th>\n",
              "      <th>avg_profit_margin</th>\n",
              "      <th>total_profit</th>\n",
              "      <th>total_revenue</th>\n",
              "      <th>total_units_sold</th>\n",
              "    </tr>\n",
              "  </thead>\n",
              "  <tbody>\n",
              "    <tr>\n",
              "      <th>0</th>\n",
              "      <td>Australia and Oceania</td>\n",
              "      <td>32.553974</td>\n",
              "      <td>3486940.0</td>\n",
              "      <td>10711258.0</td>\n",
              "      <td>42328</td>\n",
              "    </tr>\n",
              "    <tr>\n",
              "      <th>1</th>\n",
              "      <td>Europe</td>\n",
              "      <td>32.224686</td>\n",
              "      <td>11267281.0</td>\n",
              "      <td>34964748.0</td>\n",
              "      <td>121002</td>\n",
              "    </tr>\n",
              "    <tr>\n",
              "      <th>2</th>\n",
              "      <td>Middle East and North Africa</td>\n",
              "      <td>26.304173</td>\n",
              "      <td>6514262.0</td>\n",
              "      <td>24765128.0</td>\n",
              "      <td>60376</td>\n",
              "    </tr>\n",
              "    <tr>\n",
              "      <th>3</th>\n",
              "      <td>Central America and the Caribbean</td>\n",
              "      <td>24.200899</td>\n",
              "      <td>4252300.0</td>\n",
              "      <td>17570836.0</td>\n",
              "      <td>53641</td>\n",
              "    </tr>\n",
              "    <tr>\n",
              "      <th>4</th>\n",
              "      <td>Asia</td>\n",
              "      <td>23.403975</td>\n",
              "      <td>6749896.0</td>\n",
              "      <td>28840812.0</td>\n",
              "      <td>113129</td>\n",
              "    </tr>\n",
              "  </tbody>\n",
              "</table>\n",
              "</div>\n",
              "    <div class=\"colab-df-buttons\">\n",
              "\n",
              "  <div class=\"colab-df-container\">\n",
              "    <button class=\"colab-df-convert\" onclick=\"convertToInteractive('df-0b5e694e-ffc0-475a-871a-8d84e5f265e9')\"\n",
              "            title=\"Convert this dataframe to an interactive table.\"\n",
              "            style=\"display:none;\">\n",
              "\n",
              "  <svg xmlns=\"http://www.w3.org/2000/svg\" height=\"24px\" viewBox=\"0 -960 960 960\">\n",
              "    <path d=\"M120-120v-720h720v720H120Zm60-500h600v-160H180v160Zm220 220h160v-160H400v160Zm0 220h160v-160H400v160ZM180-400h160v-160H180v160Zm440 0h160v-160H620v160ZM180-180h160v-160H180v160Zm440 0h160v-160H620v160Z\"/>\n",
              "  </svg>\n",
              "    </button>\n",
              "\n",
              "  <style>\n",
              "    .colab-df-container {\n",
              "      display:flex;\n",
              "      gap: 12px;\n",
              "    }\n",
              "\n",
              "    .colab-df-convert {\n",
              "      background-color: #E8F0FE;\n",
              "      border: none;\n",
              "      border-radius: 50%;\n",
              "      cursor: pointer;\n",
              "      display: none;\n",
              "      fill: #1967D2;\n",
              "      height: 32px;\n",
              "      padding: 0 0 0 0;\n",
              "      width: 32px;\n",
              "    }\n",
              "\n",
              "    .colab-df-convert:hover {\n",
              "      background-color: #E2EBFA;\n",
              "      box-shadow: 0px 1px 2px rgba(60, 64, 67, 0.3), 0px 1px 3px 1px rgba(60, 64, 67, 0.15);\n",
              "      fill: #174EA6;\n",
              "    }\n",
              "\n",
              "    .colab-df-buttons div {\n",
              "      margin-bottom: 4px;\n",
              "    }\n",
              "\n",
              "    [theme=dark] .colab-df-convert {\n",
              "      background-color: #3B4455;\n",
              "      fill: #D2E3FC;\n",
              "    }\n",
              "\n",
              "    [theme=dark] .colab-df-convert:hover {\n",
              "      background-color: #434B5C;\n",
              "      box-shadow: 0px 1px 3px 1px rgba(0, 0, 0, 0.15);\n",
              "      filter: drop-shadow(0px 1px 2px rgba(0, 0, 0, 0.3));\n",
              "      fill: #FFFFFF;\n",
              "    }\n",
              "  </style>\n",
              "\n",
              "    <script>\n",
              "      const buttonEl =\n",
              "        document.querySelector('#df-0b5e694e-ffc0-475a-871a-8d84e5f265e9 button.colab-df-convert');\n",
              "      buttonEl.style.display =\n",
              "        google.colab.kernel.accessAllowed ? 'block' : 'none';\n",
              "\n",
              "      async function convertToInteractive(key) {\n",
              "        const element = document.querySelector('#df-0b5e694e-ffc0-475a-871a-8d84e5f265e9');\n",
              "        const dataTable =\n",
              "          await google.colab.kernel.invokeFunction('convertToInteractive',\n",
              "                                                    [key], {});\n",
              "        if (!dataTable) return;\n",
              "\n",
              "        const docLinkHtml = 'Like what you see? Visit the ' +\n",
              "          '<a target=\"_blank\" href=https://colab.research.google.com/notebooks/data_table.ipynb>data table notebook</a>'\n",
              "          + ' to learn more about interactive tables.';\n",
              "        element.innerHTML = '';\n",
              "        dataTable['output_type'] = 'display_data';\n",
              "        await google.colab.output.renderOutput(dataTable, element);\n",
              "        const docLink = document.createElement('div');\n",
              "        docLink.innerHTML = docLinkHtml;\n",
              "        element.appendChild(docLink);\n",
              "      }\n",
              "    </script>\n",
              "  </div>\n",
              "\n",
              "\n",
              "<div id=\"df-5dd68945-0e5e-4107-9ba2-973aeb2ac71a\">\n",
              "  <button class=\"colab-df-quickchart\" onclick=\"quickchart('df-5dd68945-0e5e-4107-9ba2-973aeb2ac71a')\"\n",
              "            title=\"Suggest charts\"\n",
              "            style=\"display:none;\">\n",
              "\n",
              "<svg xmlns=\"http://www.w3.org/2000/svg\" height=\"24px\"viewBox=\"0 0 24 24\"\n",
              "     width=\"24px\">\n",
              "    <g>\n",
              "        <path d=\"M19 3H5c-1.1 0-2 .9-2 2v14c0 1.1.9 2 2 2h14c1.1 0 2-.9 2-2V5c0-1.1-.9-2-2-2zM9 17H7v-7h2v7zm4 0h-2V7h2v10zm4 0h-2v-4h2v4z\"/>\n",
              "    </g>\n",
              "</svg>\n",
              "  </button>\n",
              "\n",
              "<style>\n",
              "  .colab-df-quickchart {\n",
              "      --bg-color: #E8F0FE;\n",
              "      --fill-color: #1967D2;\n",
              "      --hover-bg-color: #E2EBFA;\n",
              "      --hover-fill-color: #174EA6;\n",
              "      --disabled-fill-color: #AAA;\n",
              "      --disabled-bg-color: #DDD;\n",
              "  }\n",
              "\n",
              "  [theme=dark] .colab-df-quickchart {\n",
              "      --bg-color: #3B4455;\n",
              "      --fill-color: #D2E3FC;\n",
              "      --hover-bg-color: #434B5C;\n",
              "      --hover-fill-color: #FFFFFF;\n",
              "      --disabled-bg-color: #3B4455;\n",
              "      --disabled-fill-color: #666;\n",
              "  }\n",
              "\n",
              "  .colab-df-quickchart {\n",
              "    background-color: var(--bg-color);\n",
              "    border: none;\n",
              "    border-radius: 50%;\n",
              "    cursor: pointer;\n",
              "    display: none;\n",
              "    fill: var(--fill-color);\n",
              "    height: 32px;\n",
              "    padding: 0;\n",
              "    width: 32px;\n",
              "  }\n",
              "\n",
              "  .colab-df-quickchart:hover {\n",
              "    background-color: var(--hover-bg-color);\n",
              "    box-shadow: 0 1px 2px rgba(60, 64, 67, 0.3), 0 1px 3px 1px rgba(60, 64, 67, 0.15);\n",
              "    fill: var(--button-hover-fill-color);\n",
              "  }\n",
              "\n",
              "  .colab-df-quickchart-complete:disabled,\n",
              "  .colab-df-quickchart-complete:disabled:hover {\n",
              "    background-color: var(--disabled-bg-color);\n",
              "    fill: var(--disabled-fill-color);\n",
              "    box-shadow: none;\n",
              "  }\n",
              "\n",
              "  .colab-df-spinner {\n",
              "    border: 2px solid var(--fill-color);\n",
              "    border-color: transparent;\n",
              "    border-bottom-color: var(--fill-color);\n",
              "    animation:\n",
              "      spin 1s steps(1) infinite;\n",
              "  }\n",
              "\n",
              "  @keyframes spin {\n",
              "    0% {\n",
              "      border-color: transparent;\n",
              "      border-bottom-color: var(--fill-color);\n",
              "      border-left-color: var(--fill-color);\n",
              "    }\n",
              "    20% {\n",
              "      border-color: transparent;\n",
              "      border-left-color: var(--fill-color);\n",
              "      border-top-color: var(--fill-color);\n",
              "    }\n",
              "    30% {\n",
              "      border-color: transparent;\n",
              "      border-left-color: var(--fill-color);\n",
              "      border-top-color: var(--fill-color);\n",
              "      border-right-color: var(--fill-color);\n",
              "    }\n",
              "    40% {\n",
              "      border-color: transparent;\n",
              "      border-right-color: var(--fill-color);\n",
              "      border-top-color: var(--fill-color);\n",
              "    }\n",
              "    60% {\n",
              "      border-color: transparent;\n",
              "      border-right-color: var(--fill-color);\n",
              "    }\n",
              "    80% {\n",
              "      border-color: transparent;\n",
              "      border-right-color: var(--fill-color);\n",
              "      border-bottom-color: var(--fill-color);\n",
              "    }\n",
              "    90% {\n",
              "      border-color: transparent;\n",
              "      border-bottom-color: var(--fill-color);\n",
              "    }\n",
              "  }\n",
              "</style>\n",
              "\n",
              "  <script>\n",
              "    async function quickchart(key) {\n",
              "      const quickchartButtonEl =\n",
              "        document.querySelector('#' + key + ' button');\n",
              "      quickchartButtonEl.disabled = true;  // To prevent multiple clicks.\n",
              "      quickchartButtonEl.classList.add('colab-df-spinner');\n",
              "      try {\n",
              "        const charts = await google.colab.kernel.invokeFunction(\n",
              "            'suggestCharts', [key], {});\n",
              "      } catch (error) {\n",
              "        console.error('Error during call to suggestCharts:', error);\n",
              "      }\n",
              "      quickchartButtonEl.classList.remove('colab-df-spinner');\n",
              "      quickchartButtonEl.classList.add('colab-df-quickchart-complete');\n",
              "    }\n",
              "    (() => {\n",
              "      let quickchartButtonEl =\n",
              "        document.querySelector('#df-5dd68945-0e5e-4107-9ba2-973aeb2ac71a button');\n",
              "      quickchartButtonEl.style.display =\n",
              "        google.colab.kernel.accessAllowed ? 'block' : 'none';\n",
              "    })();\n",
              "  </script>\n",
              "</div>\n",
              "\n",
              "    </div>\n",
              "  </div>\n"
            ],
            "application/vnd.google.colaboratory.intrinsic+json": {
              "type": "dataframe",
              "variable_name": "sales_performance_region_df",
              "summary": "{\n  \"name\": \"sales_performance_region_df\",\n  \"rows\": 7,\n  \"fields\": [\n    {\n      \"column\": \"region\",\n      \"properties\": {\n        \"dtype\": \"string\",\n        \"num_unique_values\": 7,\n        \"samples\": [\n          \"Australia and Oceania\",\n          \"Europe\",\n          \"Sub-Saharan Africa\"\n        ],\n        \"semantic_type\": \"\",\n        \"description\": \"\"\n      }\n    },\n    {\n      \"column\": \"avg_profit_margin\",\n      \"properties\": {\n        \"dtype\": \"number\",\n        \"std\": 5.533548492859537,\n        \"min\": 23.403974533081055,\n        \"max\": 38.8902473449707,\n        \"num_unique_values\": 7,\n        \"samples\": [\n          32.55397415161133,\n          32.22468566894531,\n          31.5861873626709\n        ],\n        \"semantic_type\": \"\",\n        \"description\": \"\"\n      }\n    },\n    {\n      \"column\": \"total_profit\",\n      \"properties\": {\n        \"dtype\": \"number\",\n        \"std\": 3207350.10059697,\n        \"min\": 1404621.5,\n        \"max\": 11267281.0,\n        \"num_unique_values\": 7,\n        \"samples\": [\n          3486940.0,\n          11267281.0,\n          7651892.0\n        ],\n        \"semantic_type\": \"\",\n        \"description\": \"\"\n      }\n    },\n    {\n      \"column\": \"total_revenue\",\n      \"properties\": {\n        \"dtype\": \"number\",\n        \"std\": 10803380.634021232,\n        \"min\": 3611757.5,\n        \"max\": 34964748.0,\n        \"num_unique_values\": 7,\n        \"samples\": [\n          10711258.0,\n          34964748.0,\n          24225438.0\n        ],\n        \"semantic_type\": \"\",\n        \"description\": \"\"\n      }\n    },\n    {\n      \"column\": \"total_units_sold\",\n      \"properties\": {\n        \"dtype\": \"number\",\n        \"std\": 39771,\n        \"min\": 11728,\n        \"max\": 121002,\n        \"num_unique_values\": 7,\n        \"samples\": [\n          42328,\n          121002,\n          92606\n        ],\n        \"semantic_type\": \"\",\n        \"description\": \"\"\n      }\n    }\n  ]\n}"
            }
          },
          "metadata": {},
          "execution_count": 63
        }
      ]
    },
    {
      "cell_type": "markdown",
      "source": [
        "## 3.Top Selling Product Categories"
      ],
      "metadata": {
        "id": "sjXhUqspyTJj"
      }
    },
    {
      "cell_type": "code",
      "source": [
        "session.execute('''\n",
        "CREATE TABLE IF NOT EXISTS top_selling_categories (\n",
        "    item_type TEXT PRIMARY KEY,\n",
        "    total_units_sold INT,\n",
        "    total_revenue FLOAT,\n",
        "    total_profit FLOAT,\n",
        "    avg_unit_price FLOAT\n",
        ");''')"
      ],
      "metadata": {
        "colab": {
          "base_uri": "https://localhost:8080/"
        },
        "id": "3IvvwYhmyPZ9",
        "outputId": "a20cfe85-7f7c-4275-8a9e-ab45e790031c"
      },
      "execution_count": 64,
      "outputs": [
        {
          "output_type": "execute_result",
          "data": {
            "text/plain": [
              "<cassandra.cluster.ResultSet at 0x7d5b4da58e50>"
            ]
          },
          "metadata": {},
          "execution_count": 64
        }
      ]
    },
    {
      "cell_type": "code",
      "source": [
        "category_data = df.groupby('item_type').agg({\n",
        "    'units_sold': 'sum',\n",
        "    'total_revenue': 'sum',\n",
        "    'total_profit': 'sum'\n",
        "}).reset_index()\n",
        "category_data['AvgUnitPrice'] = category_data['total_revenue'] / category_data['units_sold']\n",
        "for _, row in category_data.iterrows():\n",
        "    session.execute(\"\"\"\n",
        "        INSERT INTO top_selling_categories (\n",
        "            item_type, total_units_sold, total_revenue, total_profit, avg_unit_price\n",
        "        ) VALUES (%s, %s, %s, %s, %s)\n",
        "    \"\"\", (\n",
        "        row['item_type'],\n",
        "        int(row['units_sold']),\n",
        "        float(row['total_revenue']),\n",
        "        float(row['total_profit']),\n",
        "        float(row['AvgUnitPrice'])\n",
        "    ))\n"
      ],
      "metadata": {
        "id": "N7lk_2cuypuf"
      },
      "execution_count": 66,
      "outputs": []
    },
    {
      "cell_type": "code",
      "source": [
        "rows = session.execute(\"SELECT * FROM top_selling_categories;\")\n",
        "data4 = [dict(row._asdict()) for row in rows]\n",
        "sales_performance_region_df = pd.DataFrame(data4)\n",
        "sales_performance_region_df.head()"
      ],
      "metadata": {
        "colab": {
          "base_uri": "https://localhost:8080/",
          "height": 206
        },
        "id": "Bi5iUFBCyznX",
        "outputId": "a5c676dd-3791-4fbf-a323-fb7d497a2f58"
      },
      "execution_count": 67,
      "outputs": [
        {
          "output_type": "execute_result",
          "data": {
            "text/plain": [
              "         item_type  avg_unit_price  total_profit  total_revenue  \\\n",
              "0        Household      668.270020  9.552677e+06   3.851908e+07   \n",
              "1  Office Supplies      651.210022  5.405268e+06   2.788090e+07   \n",
              "2       Vegetables      154.059998  4.651418e+05   1.135114e+06   \n",
              "3           Snacks      152.580002  7.927478e+05   2.193643e+06   \n",
              "4    Personal Care       81.729996  9.784677e+05   3.191148e+06   \n",
              "\n",
              "   total_units_sold  \n",
              "0             57640  \n",
              "1             42814  \n",
              "2              7368  \n",
              "3             14377  \n",
              "4             39045  "
            ],
            "text/html": [
              "\n",
              "  <div id=\"df-a41e112b-e7b4-4af3-84f9-5385b14145f1\" class=\"colab-df-container\">\n",
              "    <div>\n",
              "<style scoped>\n",
              "    .dataframe tbody tr th:only-of-type {\n",
              "        vertical-align: middle;\n",
              "    }\n",
              "\n",
              "    .dataframe tbody tr th {\n",
              "        vertical-align: top;\n",
              "    }\n",
              "\n",
              "    .dataframe thead th {\n",
              "        text-align: right;\n",
              "    }\n",
              "</style>\n",
              "<table border=\"1\" class=\"dataframe\">\n",
              "  <thead>\n",
              "    <tr style=\"text-align: right;\">\n",
              "      <th></th>\n",
              "      <th>item_type</th>\n",
              "      <th>avg_unit_price</th>\n",
              "      <th>total_profit</th>\n",
              "      <th>total_revenue</th>\n",
              "      <th>total_units_sold</th>\n",
              "    </tr>\n",
              "  </thead>\n",
              "  <tbody>\n",
              "    <tr>\n",
              "      <th>0</th>\n",
              "      <td>Household</td>\n",
              "      <td>668.270020</td>\n",
              "      <td>9.552677e+06</td>\n",
              "      <td>3.851908e+07</td>\n",
              "      <td>57640</td>\n",
              "    </tr>\n",
              "    <tr>\n",
              "      <th>1</th>\n",
              "      <td>Office Supplies</td>\n",
              "      <td>651.210022</td>\n",
              "      <td>5.405268e+06</td>\n",
              "      <td>2.788090e+07</td>\n",
              "      <td>42814</td>\n",
              "    </tr>\n",
              "    <tr>\n",
              "      <th>2</th>\n",
              "      <td>Vegetables</td>\n",
              "      <td>154.059998</td>\n",
              "      <td>4.651418e+05</td>\n",
              "      <td>1.135114e+06</td>\n",
              "      <td>7368</td>\n",
              "    </tr>\n",
              "    <tr>\n",
              "      <th>3</th>\n",
              "      <td>Snacks</td>\n",
              "      <td>152.580002</td>\n",
              "      <td>7.927478e+05</td>\n",
              "      <td>2.193643e+06</td>\n",
              "      <td>14377</td>\n",
              "    </tr>\n",
              "    <tr>\n",
              "      <th>4</th>\n",
              "      <td>Personal Care</td>\n",
              "      <td>81.729996</td>\n",
              "      <td>9.784677e+05</td>\n",
              "      <td>3.191148e+06</td>\n",
              "      <td>39045</td>\n",
              "    </tr>\n",
              "  </tbody>\n",
              "</table>\n",
              "</div>\n",
              "    <div class=\"colab-df-buttons\">\n",
              "\n",
              "  <div class=\"colab-df-container\">\n",
              "    <button class=\"colab-df-convert\" onclick=\"convertToInteractive('df-a41e112b-e7b4-4af3-84f9-5385b14145f1')\"\n",
              "            title=\"Convert this dataframe to an interactive table.\"\n",
              "            style=\"display:none;\">\n",
              "\n",
              "  <svg xmlns=\"http://www.w3.org/2000/svg\" height=\"24px\" viewBox=\"0 -960 960 960\">\n",
              "    <path d=\"M120-120v-720h720v720H120Zm60-500h600v-160H180v160Zm220 220h160v-160H400v160Zm0 220h160v-160H400v160ZM180-400h160v-160H180v160Zm440 0h160v-160H620v160ZM180-180h160v-160H180v160Zm440 0h160v-160H620v160Z\"/>\n",
              "  </svg>\n",
              "    </button>\n",
              "\n",
              "  <style>\n",
              "    .colab-df-container {\n",
              "      display:flex;\n",
              "      gap: 12px;\n",
              "    }\n",
              "\n",
              "    .colab-df-convert {\n",
              "      background-color: #E8F0FE;\n",
              "      border: none;\n",
              "      border-radius: 50%;\n",
              "      cursor: pointer;\n",
              "      display: none;\n",
              "      fill: #1967D2;\n",
              "      height: 32px;\n",
              "      padding: 0 0 0 0;\n",
              "      width: 32px;\n",
              "    }\n",
              "\n",
              "    .colab-df-convert:hover {\n",
              "      background-color: #E2EBFA;\n",
              "      box-shadow: 0px 1px 2px rgba(60, 64, 67, 0.3), 0px 1px 3px 1px rgba(60, 64, 67, 0.15);\n",
              "      fill: #174EA6;\n",
              "    }\n",
              "\n",
              "    .colab-df-buttons div {\n",
              "      margin-bottom: 4px;\n",
              "    }\n",
              "\n",
              "    [theme=dark] .colab-df-convert {\n",
              "      background-color: #3B4455;\n",
              "      fill: #D2E3FC;\n",
              "    }\n",
              "\n",
              "    [theme=dark] .colab-df-convert:hover {\n",
              "      background-color: #434B5C;\n",
              "      box-shadow: 0px 1px 3px 1px rgba(0, 0, 0, 0.15);\n",
              "      filter: drop-shadow(0px 1px 2px rgba(0, 0, 0, 0.3));\n",
              "      fill: #FFFFFF;\n",
              "    }\n",
              "  </style>\n",
              "\n",
              "    <script>\n",
              "      const buttonEl =\n",
              "        document.querySelector('#df-a41e112b-e7b4-4af3-84f9-5385b14145f1 button.colab-df-convert');\n",
              "      buttonEl.style.display =\n",
              "        google.colab.kernel.accessAllowed ? 'block' : 'none';\n",
              "\n",
              "      async function convertToInteractive(key) {\n",
              "        const element = document.querySelector('#df-a41e112b-e7b4-4af3-84f9-5385b14145f1');\n",
              "        const dataTable =\n",
              "          await google.colab.kernel.invokeFunction('convertToInteractive',\n",
              "                                                    [key], {});\n",
              "        if (!dataTable) return;\n",
              "\n",
              "        const docLinkHtml = 'Like what you see? Visit the ' +\n",
              "          '<a target=\"_blank\" href=https://colab.research.google.com/notebooks/data_table.ipynb>data table notebook</a>'\n",
              "          + ' to learn more about interactive tables.';\n",
              "        element.innerHTML = '';\n",
              "        dataTable['output_type'] = 'display_data';\n",
              "        await google.colab.output.renderOutput(dataTable, element);\n",
              "        const docLink = document.createElement('div');\n",
              "        docLink.innerHTML = docLinkHtml;\n",
              "        element.appendChild(docLink);\n",
              "      }\n",
              "    </script>\n",
              "  </div>\n",
              "\n",
              "\n",
              "<div id=\"df-590f1f65-c786-4006-bf9a-ba1d81645d46\">\n",
              "  <button class=\"colab-df-quickchart\" onclick=\"quickchart('df-590f1f65-c786-4006-bf9a-ba1d81645d46')\"\n",
              "            title=\"Suggest charts\"\n",
              "            style=\"display:none;\">\n",
              "\n",
              "<svg xmlns=\"http://www.w3.org/2000/svg\" height=\"24px\"viewBox=\"0 0 24 24\"\n",
              "     width=\"24px\">\n",
              "    <g>\n",
              "        <path d=\"M19 3H5c-1.1 0-2 .9-2 2v14c0 1.1.9 2 2 2h14c1.1 0 2-.9 2-2V5c0-1.1-.9-2-2-2zM9 17H7v-7h2v7zm4 0h-2V7h2v10zm4 0h-2v-4h2v4z\"/>\n",
              "    </g>\n",
              "</svg>\n",
              "  </button>\n",
              "\n",
              "<style>\n",
              "  .colab-df-quickchart {\n",
              "      --bg-color: #E8F0FE;\n",
              "      --fill-color: #1967D2;\n",
              "      --hover-bg-color: #E2EBFA;\n",
              "      --hover-fill-color: #174EA6;\n",
              "      --disabled-fill-color: #AAA;\n",
              "      --disabled-bg-color: #DDD;\n",
              "  }\n",
              "\n",
              "  [theme=dark] .colab-df-quickchart {\n",
              "      --bg-color: #3B4455;\n",
              "      --fill-color: #D2E3FC;\n",
              "      --hover-bg-color: #434B5C;\n",
              "      --hover-fill-color: #FFFFFF;\n",
              "      --disabled-bg-color: #3B4455;\n",
              "      --disabled-fill-color: #666;\n",
              "  }\n",
              "\n",
              "  .colab-df-quickchart {\n",
              "    background-color: var(--bg-color);\n",
              "    border: none;\n",
              "    border-radius: 50%;\n",
              "    cursor: pointer;\n",
              "    display: none;\n",
              "    fill: var(--fill-color);\n",
              "    height: 32px;\n",
              "    padding: 0;\n",
              "    width: 32px;\n",
              "  }\n",
              "\n",
              "  .colab-df-quickchart:hover {\n",
              "    background-color: var(--hover-bg-color);\n",
              "    box-shadow: 0 1px 2px rgba(60, 64, 67, 0.3), 0 1px 3px 1px rgba(60, 64, 67, 0.15);\n",
              "    fill: var(--button-hover-fill-color);\n",
              "  }\n",
              "\n",
              "  .colab-df-quickchart-complete:disabled,\n",
              "  .colab-df-quickchart-complete:disabled:hover {\n",
              "    background-color: var(--disabled-bg-color);\n",
              "    fill: var(--disabled-fill-color);\n",
              "    box-shadow: none;\n",
              "  }\n",
              "\n",
              "  .colab-df-spinner {\n",
              "    border: 2px solid var(--fill-color);\n",
              "    border-color: transparent;\n",
              "    border-bottom-color: var(--fill-color);\n",
              "    animation:\n",
              "      spin 1s steps(1) infinite;\n",
              "  }\n",
              "\n",
              "  @keyframes spin {\n",
              "    0% {\n",
              "      border-color: transparent;\n",
              "      border-bottom-color: var(--fill-color);\n",
              "      border-left-color: var(--fill-color);\n",
              "    }\n",
              "    20% {\n",
              "      border-color: transparent;\n",
              "      border-left-color: var(--fill-color);\n",
              "      border-top-color: var(--fill-color);\n",
              "    }\n",
              "    30% {\n",
              "      border-color: transparent;\n",
              "      border-left-color: var(--fill-color);\n",
              "      border-top-color: var(--fill-color);\n",
              "      border-right-color: var(--fill-color);\n",
              "    }\n",
              "    40% {\n",
              "      border-color: transparent;\n",
              "      border-right-color: var(--fill-color);\n",
              "      border-top-color: var(--fill-color);\n",
              "    }\n",
              "    60% {\n",
              "      border-color: transparent;\n",
              "      border-right-color: var(--fill-color);\n",
              "    }\n",
              "    80% {\n",
              "      border-color: transparent;\n",
              "      border-right-color: var(--fill-color);\n",
              "      border-bottom-color: var(--fill-color);\n",
              "    }\n",
              "    90% {\n",
              "      border-color: transparent;\n",
              "      border-bottom-color: var(--fill-color);\n",
              "    }\n",
              "  }\n",
              "</style>\n",
              "\n",
              "  <script>\n",
              "    async function quickchart(key) {\n",
              "      const quickchartButtonEl =\n",
              "        document.querySelector('#' + key + ' button');\n",
              "      quickchartButtonEl.disabled = true;  // To prevent multiple clicks.\n",
              "      quickchartButtonEl.classList.add('colab-df-spinner');\n",
              "      try {\n",
              "        const charts = await google.colab.kernel.invokeFunction(\n",
              "            'suggestCharts', [key], {});\n",
              "      } catch (error) {\n",
              "        console.error('Error during call to suggestCharts:', error);\n",
              "      }\n",
              "      quickchartButtonEl.classList.remove('colab-df-spinner');\n",
              "      quickchartButtonEl.classList.add('colab-df-quickchart-complete');\n",
              "    }\n",
              "    (() => {\n",
              "      let quickchartButtonEl =\n",
              "        document.querySelector('#df-590f1f65-c786-4006-bf9a-ba1d81645d46 button');\n",
              "      quickchartButtonEl.style.display =\n",
              "        google.colab.kernel.accessAllowed ? 'block' : 'none';\n",
              "    })();\n",
              "  </script>\n",
              "</div>\n",
              "\n",
              "    </div>\n",
              "  </div>\n"
            ],
            "application/vnd.google.colaboratory.intrinsic+json": {
              "type": "dataframe",
              "variable_name": "sales_performance_region_df",
              "summary": "{\n  \"name\": \"sales_performance_region_df\",\n  \"rows\": 12,\n  \"fields\": [\n    {\n      \"column\": \"item_type\",\n      \"properties\": {\n        \"dtype\": \"string\",\n        \"num_unique_values\": 12,\n        \"samples\": [\n          \"Baby Food\",\n          \"Cosmetics\",\n          \"Household\"\n        ],\n        \"semantic_type\": \"\",\n        \"description\": \"\"\n      }\n    },\n    {\n      \"column\": \"avg_unit_price\",\n      \"properties\": {\n        \"dtype\": \"number\",\n        \"std\": 226.66045832670187,\n        \"min\": 9.329999923706055,\n        \"max\": 668.27001953125,\n        \"num_unique_values\": 12,\n        \"samples\": [\n          255.27999877929688,\n          437.20001220703125,\n          668.27001953125\n        ],\n        \"semantic_type\": \"\",\n        \"description\": \"\"\n      }\n    },\n    {\n      \"column\": \"total_profit\",\n      \"properties\": {\n        \"dtype\": \"number\",\n        \"std\": 3671332.4531046636,\n        \"min\": 158867.203125,\n        \"max\": 11424476.0,\n        \"num_unique_values\": 12,\n        \"samples\": [\n          1952859.875,\n          11424476.0,\n          9552677.0\n        ],\n        \"semantic_type\": \"\",\n        \"description\": \"\"\n      }\n    },\n    {\n      \"column\": \"total_revenue\",\n      \"properties\": {\n        \"dtype\": \"number\",\n        \"std\": 13316850.497461474,\n        \"min\": 615033.625,\n        \"max\": 38519084.0,\n        \"num_unique_values\": 12,\n        \"samples\": [\n          5200564.0,\n          28727100.0,\n          38519084.0\n        ],\n        \"semantic_type\": \"\",\n        \"description\": \"\"\n      }\n    },\n    {\n      \"column\": \"total_units_sold\",\n      \"properties\": {\n        \"dtype\": \"number\",\n        \"std\": 18854,\n        \"min\": 7368,\n        \"max\": 65920,\n        \"num_unique_values\": 12,\n        \"samples\": [\n          20372,\n          65707,\n          57640\n        ],\n        \"semantic_type\": \"\",\n        \"description\": \"\"\n      }\n    }\n  ]\n}"
            }
          },
          "metadata": {},
          "execution_count": 67
        }
      ]
    },
    {
      "cell_type": "code",
      "source": [],
      "metadata": {
        "id": "bmPDzI0NzTQY"
      },
      "execution_count": null,
      "outputs": []
    }
  ]
}